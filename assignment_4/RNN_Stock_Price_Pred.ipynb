{
  "cells": [
    {
      "cell_type": "markdown",
      "metadata": {
        "id": "9pE6FmQz_R2a"
      },
      "source": [
        "# **DL Practical 4**\n",
        "# *Time series prediction using RNN – Stock Market Analysis*"
      ]
    },
    {
      "cell_type": "markdown",
      "metadata": {
        "id": "Hz5izuRpAWnu"
      },
      "source": [
        "### Step 1: Import necessary libraries"
      ]
    },
    {
      "cell_type": "code",
      "execution_count": 1,
      "metadata": {
        "id": "2vtaxHsL_RjY"
      },
      "outputs": [],
      "source": [
        "import numpy as np\n",
        "import pandas as pd\n",
        "import matplotlib.pyplot as plt\n",
        "from sklearn.preprocessing import MinMaxScaler\n",
        "from keras.models import Sequential\n",
        "from keras.layers import Dense, SimpleRNN\n",
        "from sklearn.model_selection import train_test_split"
      ]
    },
    {
      "cell_type": "markdown",
      "metadata": {
        "id": "_C3aTQfOAh0J"
      },
      "source": [
        "### Step 2: Load the dataset"
      ]
    },
    {
      "cell_type": "code",
      "execution_count": 2,
      "metadata": {
        "id": "EmUWnfaMAdc-"
      },
      "outputs": [],
      "source": [
        "dataframe = pd.read_csv('tesla.csv')  # Ensure the dataset has 'Date' and 'Close' columns\n",
        "dataframe['Date'] = pd.to_datetime(dataframe['Date'])\n",
        "dataframe.set_index('Date', inplace=True)"
      ]
    },
    {
      "cell_type": "markdown",
      "metadata": {
        "id": "Og2sXnbKBnU-"
      },
      "source": [
        "### Step 3: Preprocess the data (Normalization)"
      ]
    },
    {
      "cell_type": "code",
      "execution_count": 3,
      "metadata": {
        "id": "NP-CoLNHBQV0"
      },
      "outputs": [],
      "source": [
        "closing_prices = dataframe[['Close']].values\n",
        "scaler_obj = MinMaxScaler(feature_range=(0, 1))\n",
        "normalized_data = scaler_obj.fit_transform(closing_prices)"
      ]
    },
    {
      "cell_type": "markdown",
      "metadata": {
        "id": "zRPGOAj0ByfU"
      },
      "source": [
        "### Step 4: Create sequences for the RNN"
      ]
    },
    {
      "cell_type": "code",
      "execution_count": 4,
      "metadata": {
        "id": "F5eZq4qIBQsc"
      },
      "outputs": [],
      "source": [
        "def generate_sequences(data, seq_len):\n",
        "    X_seq, y_seq = [], []\n",
        "    for idx in range(len(data) - seq_len):\n",
        "        X_seq.append(data[idx:idx + seq_len])\n",
        "        y_seq.append(data[idx + seq_len])\n",
        "    return np.array(X_seq), np.array(y_seq)\n",
        "\n",
        "sequence_len = 60  # You can modify the sequence length as needed\n",
        "X_features, y_labels = generate_sequences(normalized_data, sequence_len)"
      ]
    },
    {
      "cell_type": "markdown",
      "metadata": {
        "id": "PUV_L-wBB1zK"
      },
      "source": [
        "### Step 5: Split the data into train and test sets"
      ]
    },
    {
      "cell_type": "code",
      "execution_count": 5,
      "metadata": {
        "id": "RuBWaukCBQ7T"
      },
      "outputs": [],
      "source": [
        "train_test_split_idx = int(len(X_features) * 0.8)\n",
        "X_train_data, y_train_data = X_features[:train_test_split_idx], y_labels[:train_test_split_idx]\n",
        "X_test_data, y_test_data = X_features[train_test_split_idx:], y_labels[train_test_split_idx:]"
      ]
    },
    {
      "cell_type": "markdown",
      "metadata": {
        "id": "Pcne675YB5Lm"
      },
      "source": [
        "### Step 6: Build the RNN model"
      ]
    },
    {
      "cell_type": "code",
      "execution_count": 6,
      "metadata": {
        "colab": {
          "base_uri": "https://localhost:8080/"
        },
        "id": "2e-KuYe6BYhC",
        "outputId": "cb466cf5-50c7-48ce-8d31-f6bba7c694ac"
      },
      "outputs": [
        {
          "output_type": "stream",
          "name": "stderr",
          "text": [
            "/usr/local/lib/python3.12/dist-packages/keras/src/layers/rnn/rnn.py:199: UserWarning: Do not pass an `input_shape`/`input_dim` argument to a layer. When using Sequential models, prefer using an `Input(shape)` object as the first layer in the model instead.\n",
            "  super().__init__(**kwargs)\n"
          ]
        }
      ],
      "source": [
        "rnn_model = Sequential()\n",
        "rnn_model.add(SimpleRNN(units=50, activation='relu', input_shape=(sequence_len, 1)))\n",
        "rnn_model.add(Dense(1))  # Output layer for predicting the stock price\n",
        "\n",
        "rnn_model.compile(optimizer='adam', loss='mean_squared_error')"
      ]
    },
    {
      "cell_type": "markdown",
      "metadata": {
        "id": "0B3RI-UvB56_"
      },
      "source": [
        "### Step 7: Train the model"
      ]
    },
    {
      "cell_type": "code",
      "execution_count": 7,
      "metadata": {
        "colab": {
          "base_uri": "https://localhost:8080/"
        },
        "id": "sZ89YsiVBbOR",
        "outputId": "d6a8edec-7fae-4336-b699-8beca05bd783"
      },
      "outputs": [
        {
          "output_type": "stream",
          "name": "stdout",
          "text": [
            "Epoch 1/10\n",
            "\u001b[1m73/73\u001b[0m \u001b[32m━━━━━━━━━━━━━━━━━━━━\u001b[0m\u001b[37m\u001b[0m \u001b[1m3s\u001b[0m 16ms/step - loss: 3.5172e-05 - val_loss: 9.7134e-04\n",
            "Epoch 2/10\n",
            "\u001b[1m73/73\u001b[0m \u001b[32m━━━━━━━━━━━━━━━━━━━━\u001b[0m\u001b[37m\u001b[0m \u001b[1m3s\u001b[0m 20ms/step - loss: 1.8158e-06 - val_loss: 0.0010\n",
            "Epoch 3/10\n",
            "\u001b[1m73/73\u001b[0m \u001b[32m━━━━━━━━━━━━━━━━━━━━\u001b[0m\u001b[37m\u001b[0m \u001b[1m2s\u001b[0m 12ms/step - loss: 1.8878e-06 - val_loss: 0.0014\n",
            "Epoch 4/10\n",
            "\u001b[1m73/73\u001b[0m \u001b[32m━━━━━━━━━━━━━━━━━━━━\u001b[0m\u001b[37m\u001b[0m \u001b[1m1s\u001b[0m 13ms/step - loss: 1.7521e-06 - val_loss: 0.0015\n",
            "Epoch 5/10\n",
            "\u001b[1m73/73\u001b[0m \u001b[32m━━━━━━━━━━━━━━━━━━━━\u001b[0m\u001b[37m\u001b[0m \u001b[1m1s\u001b[0m 12ms/step - loss: 1.6629e-06 - val_loss: 0.0012\n",
            "Epoch 6/10\n",
            "\u001b[1m73/73\u001b[0m \u001b[32m━━━━━━━━━━━━━━━━━━━━\u001b[0m\u001b[37m\u001b[0m \u001b[1m1s\u001b[0m 13ms/step - loss: 2.0238e-06 - val_loss: 0.0012\n",
            "Epoch 7/10\n",
            "\u001b[1m73/73\u001b[0m \u001b[32m━━━━━━━━━━━━━━━━━━━━\u001b[0m\u001b[37m\u001b[0m \u001b[1m1s\u001b[0m 13ms/step - loss: 1.8231e-06 - val_loss: 0.0013\n",
            "Epoch 8/10\n",
            "\u001b[1m73/73\u001b[0m \u001b[32m━━━━━━━━━━━━━━━━━━━━\u001b[0m\u001b[37m\u001b[0m \u001b[1m1s\u001b[0m 13ms/step - loss: 1.7219e-06 - val_loss: 0.0014\n",
            "Epoch 9/10\n",
            "\u001b[1m73/73\u001b[0m \u001b[32m━━━━━━━━━━━━━━━━━━━━\u001b[0m\u001b[37m\u001b[0m \u001b[1m1s\u001b[0m 13ms/step - loss: 1.5259e-06 - val_loss: 0.0014\n",
            "Epoch 10/10\n",
            "\u001b[1m73/73\u001b[0m \u001b[32m━━━━━━━━━━━━━━━━━━━━\u001b[0m\u001b[37m\u001b[0m \u001b[1m1s\u001b[0m 12ms/step - loss: 1.8730e-06 - val_loss: 0.0018\n"
          ]
        }
      ],
      "source": [
        "training_history = rnn_model.fit(X_train_data, y_train_data, epochs=10, batch_size=32, validation_data=(X_test_data, y_test_data))"
      ]
    },
    {
      "cell_type": "markdown",
      "metadata": {
        "id": "YEaZv6_7B6ka"
      },
      "source": [
        "### Step 8: Predict for the next 20 days"
      ]
    },
    {
      "cell_type": "code",
      "execution_count": 8,
      "metadata": {
        "colab": {
          "base_uri": "https://localhost:8080/"
        },
        "id": "9hU1wsbpBdBT",
        "outputId": "835849f3-7692-4c9e-9544-12a0d32b7430"
      },
      "outputs": [
        {
          "output_type": "stream",
          "name": "stdout",
          "text": [
            "\u001b[1m1/1\u001b[0m \u001b[32m━━━━━━━━━━━━━━━━━━━━\u001b[0m\u001b[37m\u001b[0m \u001b[1m0s\u001b[0m 222ms/step\n",
            "\u001b[1m1/1\u001b[0m \u001b[32m━━━━━━━━━━━━━━━━━━━━\u001b[0m\u001b[37m\u001b[0m \u001b[1m0s\u001b[0m 53ms/step\n",
            "\u001b[1m1/1\u001b[0m \u001b[32m━━━━━━━━━━━━━━━━━━━━\u001b[0m\u001b[37m\u001b[0m \u001b[1m0s\u001b[0m 63ms/step\n",
            "\u001b[1m1/1\u001b[0m \u001b[32m━━━━━━━━━━━━━━━━━━━━\u001b[0m\u001b[37m\u001b[0m \u001b[1m0s\u001b[0m 59ms/step\n",
            "\u001b[1m1/1\u001b[0m \u001b[32m━━━━━━━━━━━━━━━━━━━━\u001b[0m\u001b[37m\u001b[0m \u001b[1m0s\u001b[0m 62ms/step\n",
            "\u001b[1m1/1\u001b[0m \u001b[32m━━━━━━━━━━━━━━━━━━━━\u001b[0m\u001b[37m\u001b[0m \u001b[1m0s\u001b[0m 76ms/step\n",
            "\u001b[1m1/1\u001b[0m \u001b[32m━━━━━━━━━━━━━━━━━━━━\u001b[0m\u001b[37m\u001b[0m \u001b[1m0s\u001b[0m 73ms/step\n",
            "\u001b[1m1/1\u001b[0m \u001b[32m━━━━━━━━━━━━━━━━━━━━\u001b[0m\u001b[37m\u001b[0m \u001b[1m0s\u001b[0m 57ms/step\n",
            "\u001b[1m1/1\u001b[0m \u001b[32m━━━━━━━━━━━━━━━━━━━━\u001b[0m\u001b[37m\u001b[0m \u001b[1m0s\u001b[0m 60ms/step\n",
            "\u001b[1m1/1\u001b[0m \u001b[32m━━━━━━━━━━━━━━━━━━━━\u001b[0m\u001b[37m\u001b[0m \u001b[1m0s\u001b[0m 56ms/step\n",
            "\u001b[1m1/1\u001b[0m \u001b[32m━━━━━━━━━━━━━━━━━━━━\u001b[0m\u001b[37m\u001b[0m \u001b[1m0s\u001b[0m 61ms/step\n",
            "\u001b[1m1/1\u001b[0m \u001b[32m━━━━━━━━━━━━━━━━━━━━\u001b[0m\u001b[37m\u001b[0m \u001b[1m0s\u001b[0m 38ms/step\n",
            "\u001b[1m1/1\u001b[0m \u001b[32m━━━━━━━━━━━━━━━━━━━━\u001b[0m\u001b[37m\u001b[0m \u001b[1m0s\u001b[0m 39ms/step\n",
            "\u001b[1m1/1\u001b[0m \u001b[32m━━━━━━━━━━━━━━━━━━━━\u001b[0m\u001b[37m\u001b[0m \u001b[1m0s\u001b[0m 43ms/step\n",
            "\u001b[1m1/1\u001b[0m \u001b[32m━━━━━━━━━━━━━━━━━━━━\u001b[0m\u001b[37m\u001b[0m \u001b[1m0s\u001b[0m 40ms/step\n",
            "\u001b[1m1/1\u001b[0m \u001b[32m━━━━━━━━━━━━━━━━━━━━\u001b[0m\u001b[37m\u001b[0m \u001b[1m0s\u001b[0m 41ms/step\n",
            "\u001b[1m1/1\u001b[0m \u001b[32m━━━━━━━━━━━━━━━━━━━━\u001b[0m\u001b[37m\u001b[0m \u001b[1m0s\u001b[0m 47ms/step\n",
            "\u001b[1m1/1\u001b[0m \u001b[32m━━━━━━━━━━━━━━━━━━━━\u001b[0m\u001b[37m\u001b[0m \u001b[1m0s\u001b[0m 41ms/step\n",
            "\u001b[1m1/1\u001b[0m \u001b[32m━━━━━━━━━━━━━━━━━━━━\u001b[0m\u001b[37m\u001b[0m \u001b[1m0s\u001b[0m 39ms/step\n",
            "\u001b[1m1/1\u001b[0m \u001b[32m━━━━━━━━━━━━━━━━━━━━\u001b[0m\u001b[37m\u001b[0m \u001b[1m0s\u001b[0m 40ms/step\n"
          ]
        }
      ],
      "source": [
        "future_predictions = []\n",
        "recent_sequence = normalized_data[train_test_split_idx - sequence_len:train_test_split_idx]\n",
        "\n",
        "for _ in range(20):  # Predict for the next 20 days\n",
        "    recent_sequence = np.reshape(recent_sequence, (1, sequence_len, 1))  # Ensure correct shape for RNN\n",
        "    predicted_price = rnn_model.predict(recent_sequence)\n",
        "\n",
        "    future_predictions.append(predicted_price[0][0])  # Store predicted price\n",
        "\n",
        "    # Reshape predicted price and append it to the sequence\n",
        "    predicted_price = np.reshape(predicted_price, (1, 1, 1))\n",
        "    recent_sequence = np.append(recent_sequence[:, 1:, :], predicted_price, axis=1)"
      ]
    },
    {
      "cell_type": "markdown",
      "metadata": {
        "id": "jsM5CkeyB7Gf"
      },
      "source": [
        "### Step 9: Inverse transform the predicted prices to the original scale"
      ]
    },
    {
      "cell_type": "code",
      "execution_count": 9,
      "metadata": {
        "id": "x_t_hJE3Bf7P"
      },
      "outputs": [],
      "source": [
        "predicted_future_prices = scaler_obj.inverse_transform(np.array(future_predictions).reshape(-1, 1))"
      ]
    },
    {
      "cell_type": "markdown",
      "metadata": {
        "id": "zo_DuXMBB7rS"
      },
      "source": [
        "### Step 10: Compare with actual prices (next 20 days)"
      ]
    },
    {
      "cell_type": "code",
      "execution_count": 10,
      "metadata": {
        "id": "Y46pFpQKBhsg"
      },
      "outputs": [],
      "source": [
        "actual_future_prices = scaler_obj.inverse_transform(normalized_data[train_test_split_idx:train_test_split_idx+20])"
      ]
    },
    {
      "cell_type": "markdown",
      "metadata": {
        "id": "ZNQJujumB8Sh"
      },
      "source": [
        "### Step 11: Plot the results"
      ]
    },
    {
      "cell_type": "code",
      "execution_count": 11,
      "metadata": {
        "colab": {
          "base_uri": "https://localhost:8080/",
          "height": 472
        },
        "id": "8rrTAGc6Bjhs",
        "outputId": "b3871b71-4503-49a2-a9fc-bfe5ab2b46a7"
      },
      "outputs": [
        {
          "output_type": "display_data",
          "data": {
            "text/plain": [
              "<Figure size 640x480 with 1 Axes>"
            ],
            "image/png": "[encoded data removed]"
          },
          "metadata": {}
        }
      ],
      "source": [
        "plt.plot(dataframe.index[train_test_split_idx:train_test_split_idx+20], actual_future_prices, label='Actual Prices')\n",
        "plt.plot(dataframe.index[train_test_split_idx:train_test_split_idx+20], predicted_future_prices, label='Predicted Prices')\n",
        "plt.title('Actual vs Predicted Stock Prices for the Next 20 Days')\n",
        "plt.xlabel('Date')\n",
        "plt.ylabel('Stock Price')\n",
        "plt.legend()\n",
        "plt.show()"
      ]
    },
    {
      "cell_type": "markdown",
      "metadata": {
        "id": "buJKl0l_B88w"
      },
      "source": [
        "### Step 12: Print actual and predicted prices for the next 20 days"
      ]
    },
    {
      "cell_type": "code",
      "execution_count": 12,
      "metadata": {
        "colab": {
          "base_uri": "https://localhost:8080/"
        },
        "id": "-bqWmCX6BjZ5",
        "outputId": "70593e6d-bdf4-4331-9872-ac3d8dda7d5a"
      },
      "outputs": [
        {
          "output_type": "stream",
          "name": "stdout",
          "text": [
            "Day 1: Actual: 49.41999799999999, Predicted: 45.99262619018555\n",
            "Day 2: Actual: 49.17400000000001, Predicted: 45.79247283935547\n",
            "Day 3: Actual: 49.040001, Predicted: 45.198570251464844\n",
            "Day 4: Actual: 48.562, Predicted: 44.748077392578125\n",
            "Day 5: Actual: 48.958, Predicted: 44.349178314208984\n",
            "Day 6: Actual: 48.698001999999995, Predicted: 43.89393615722656\n",
            "Day 7: Actual: 49.32, Predicted: 43.41908645629883\n",
            "Day 8: Actual: 48.124001, Predicted: 42.93620300292969\n",
            "Day 9: Actual: 48.245998, Predicted: 42.471168518066406\n",
            "Day 10: Actual: 44.641998, Predicted: 42.02998733520508\n",
            "Day 11: Actual: 45.740002, Predicted: 41.60004806518555\n",
            "Day 12: Actual: 48.512001, Predicted: 41.17645263671875\n",
            "Day 13: Actual: 48.425999, Predicted: 40.7617301940918\n",
            "Day 14: Actual: 48.17399999999999, Predicted: 40.3576774597168\n",
            "Day 15: Actual: 48.938, Predicted: 39.9616584777832\n",
            "Day 16: Actual: 48.625999, Predicted: 39.573089599609375\n",
            "Day 17: Actual: 46.605999, Predicted: 39.19302749633789\n",
            "Day 18: Actual: 46.285999, Predicted: 38.82108688354492\n",
            "Day 19: Actual: 47.543999, Predicted: 38.45649337768555\n",
            "Day 20: Actual: 48.009998, Predicted: 38.09941101074219\n"
          ]
        }
      ],
      "source": [
        "for day in range(20):\n",
        "    print(f\"Day {day+1}: Actual: {actual_future_prices[day][0]}, Predicted: {predicted_future_prices[day][0]}\")"
      ]
    }
  ],
  "metadata": {
    "colab": {
      "provenance": []
    },
    "kernelspec": {
      "display_name": "Python 3",
      "name": "python3"
    },
    "language_info": {
      "codemirror_mode": {
        "name": "ipython",
        "version": 3
      },
      "file_extension": ".py",
      "mimetype": "text/x-python",
      "name": "python",
      "nbconvert_exporter": "python",
      "pygments_lexer": "ipython3",
      "version": "3.12.1"
    }
  },
  "nbformat": 4,
  "nbformat_minor": 0
}